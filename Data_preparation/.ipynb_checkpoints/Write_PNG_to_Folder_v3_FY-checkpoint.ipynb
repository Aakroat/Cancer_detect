{
 "cells": [
  {
   "cell_type": "markdown",
   "metadata": {
    "colab_type": "text",
    "id": "Y5qV_G2q-LQA"
   },
   "source": [
    "**Create png for dcm files which contain nodules only**\n",
    "<br>\n",
    "**png can be saved in one main folder or seperate folders for each patient**"
   ]
  },
  {
   "cell_type": "code",
   "execution_count": 0,
   "metadata": {
    "colab": {},
    "colab_type": "code",
    "id": "dcEV_a9k-LQH"
   },
   "outputs": [],
   "source": [
    "from bs4 import BeautifulSoup\n",
    "import os\n",
    "import numpy as np\n",
    "import re\n",
    "import pydicom\n",
    "import re\n",
    "import mritopng"
   ]
  },
  {
   "cell_type": "code",
   "execution_count": 0,
   "metadata": {
    "colab": {},
    "colab_type": "code",
    "id": "urrG25Vq-LQQ"
   },
   "outputs": [],
   "source": [
    "#data_path_root = folder containing all patient folders\n",
    "data_path_root=\"F:\\Lunatest\"\n",
    "#data_path_root_list = list of patient folder name\n",
    "data_path_root_list=os.listdir(data_path_root)\n",
    "#png_folder = folder to save png\n",
    "png_folder=\"F:\\PNG_folder\""
   ]
  },
  {
   "cell_type": "code",
   "execution_count": 0,
   "metadata": {
    "colab": {},
    "colab_type": "code",
    "id": "yeASHhI9-LQX"
   },
   "outputs": [],
   "source": [
    "#Read xml and return 'roi'\n",
    "def froi(data_path):\n",
    "    global data_roi\n",
    "    os.chdir(data_path)\n",
    "    for file in os.listdir():\n",
    "        if file.endswith('.xml'):\n",
    "            xmlname=file\n",
    "    data_xml=open(xmlname,'r')\n",
    "    data_xml_contents=data_xml.read()\n",
    "    soup=BeautifulSoup(data_xml_contents,'html.parser')\n",
    "    data_roi=soup.findAll('roi')\n",
    "    return data_roi"
   ]
  },
  {
   "cell_type": "code",
   "execution_count": 0,
   "metadata": {
    "colab": {},
    "colab_type": "code",
    "id": "9uYrklgq-LQb"
   },
   "outputs": [],
   "source": [
    "#Get image id and Z position from 'roi' data and create a dict\n",
    "def fIDZdict():\n",
    "    global dictIDZpos\n",
    "    ID=[]\n",
    "    Zpos=[]\n",
    "    for i in range(len(data_roi)):\n",
    "        ID.append(re.findall(\"<imagesop_uid>(.*)</imagesop_uid>\",str(data_roi[i])))\n",
    "        Zpos.append(re.findall('<imagezposition>(.*)</imagezposition>',str(data_roi[i])))\n",
    "    dictIDZpos={}\n",
    "    for i in range(len(Zpos)):\n",
    "        dictIDZpos[ID[i][0]]=float(Zpos[i][0].strip())\n",
    "    return dictIDZpos"
   ]
  },
  {
   "cell_type": "code",
   "execution_count": 0,
   "metadata": {
    "colab": {},
    "colab_type": "code",
    "id": "sEpe2lCt-LQf"
   },
   "outputs": [],
   "source": [
    "#Get id from dcm and create dict of id and dcmname\n",
    "def fIDdcmnamedict():\n",
    "    global dictIDdcmname\n",
    "    fileList=[]\n",
    "    for file in os.listdir(data_path):\n",
    "        if file.endswith('.dcm'):\n",
    "            fileList.append(file)\n",
    "    dcmIDList=[]\n",
    "    for file in fileList:\n",
    "        dcminfo=pydicom.dcmread(file)\n",
    "        dcmID=dcminfo.SOPInstanceUID.strip()\n",
    "        dcmIDList.append(dcmID)\n",
    "    dictIDdcmname={}\n",
    "    for i in range(len(fileList)):\n",
    "        dictIDdcmname[dcmIDList[i]]=fileList[i]\n",
    "    return dictIDdcmname"
   ]
  },
  {
   "cell_type": "code",
   "execution_count": 0,
   "metadata": {
    "colab": {},
    "colab_type": "code",
    "id": "EVoCjHZq-LQi"
   },
   "outputs": [],
   "source": [
    "#make a dict of Z position and dcmname and return dcmnames which are to be converted to png\n",
    "#dcmnames to be converted to png are returned as a list : dcmlist\n",
    "def fdcmlist():\n",
    "    global dcmlist\n",
    "    dcmdict={}\n",
    "    for keyx in dictIDZpos:\n",
    "        dcmdict[dictIDZpos[keyx]]=dictIDdcmname[keyx]\n",
    "    dcmlist=list(dcmdict.values())\n",
    "    return dcmlist"
   ]
  },
  {
   "cell_type": "code",
   "execution_count": 0,
   "metadata": {
    "colab": {},
    "colab_type": "code",
    "id": "3vRaPg_w-LQm"
   },
   "outputs": [],
   "source": [
    "# ask user if they want to save png in one folder or create child png folders\n",
    "def ask_for_png_folder():\n",
    "    import sys\n",
    "    global ask_var\n",
    "    print(\"\\nEnter 'e' to terminate program\\n\")\n",
    "    print(\"Enter\\n'y' for creating child png folder\\n'n' for saving png in parent png folder\")\n",
    "    while True:\n",
    "        ask_var=input(\"Enter : \")\n",
    "        if (ask_var == 'y') or (ask_var == 'n'):\n",
    "            break\n",
    "        elif ask_var=='e':\n",
    "            sys.exit()\n",
    "        else:\n",
    "            print('Wrong Input')\n",
    "            continue\n",
    "                \n",
    "    return ask_var"
   ]
  },
  {
   "cell_type": "code",
   "execution_count": 0,
   "metadata": {
    "colab": {},
    "colab_type": "code",
    "id": "hPIvC7Ae-LQp"
   },
   "outputs": [],
   "source": [
    "#save png in png_folder or create child folders\n",
    "def png_to_save_folder(png_folder):\n",
    "    os.chdir(png_folder)\n",
    "    if ask_var=='n':\n",
    "        return png_folder\n",
    "    elif ask_var=='y':\n",
    "        pfname='png_'+data_path_root_list[folder][-4:]\n",
    "        if os.path.exists(pfname)==False:\n",
    "            os.mkdir(pfname)\n",
    "        return os.path.join(png_folder,pfname)"
   ]
  },
  {
   "cell_type": "code",
   "execution_count": 0,
   "metadata": {
    "colab": {},
    "colab_type": "code",
    "id": "e2wwhSIr-LQs"
   },
   "outputs": [],
   "source": [
    "#write png to folder specified by png_to_save_folder()\n",
    "def fwritepng():\n",
    "    png_path=png_to_save_folder(png_folder)\n",
    "    for dfile in dcmlist:\n",
    "        #dfilepathname is the full path name of dcm file\n",
    "        dfilepathname=os.path.join(data_path,dfile)\n",
    "        #pfile is the name given to png file\n",
    "        pfile=data_path_root_list[folder][-4:]+'_'+dfile[3:6]+'.png'\n",
    "        #pfilepathname is the full path name of png file\n",
    "        pfilepathname=os.path.join(png_path,pfile)\n",
    "        mritopng.convert_file(dfilepathname,pfilepathname)"
   ]
  },
  {
   "cell_type": "code",
   "execution_count": 0,
   "metadata": {
    "colab": {},
    "colab_type": "code",
    "id": "xdYXKHCN-LQu"
   },
   "outputs": [],
   "source": [
    "global ask_var,data_roi,dictIDZpos,dictIDdcmname,dcmlist,Zlist,Xlist,Ylist\n",
    "ask_for_png_folder()\n",
    "for folder in range(0,5):\n",
    "#for folder in range(0,len(data_path_root_list)):\n",
    "    data_path=os.path.join(data_path_root,data_path_root_list[folder])\n",
    "    print(data_path)\n",
    "    png_to_save_folder(png_folder)\n",
    "    froi(data_path)\n",
    "    pid=data_path[-4:]\n",
    "    fIDZdict()\n",
    "    fIDdcmnamedict()\n",
    "    fdcmlist()\n",
    "    fwritepng()\n",
    "print(\"Task Completed\")"
   ]
  },
  {
   "cell_type": "code",
   "execution_count": 0,
   "metadata": {
    "colab": {},
    "colab_type": "code",
    "id": "P0udNmLC-LQy"
   },
   "outputs": [],
   "source": []
  }
 ],
 "metadata": {
  "colab": {
   "name": "Write PNG to Folder v3 FY.ipynb",
   "provenance": [],
   "version": "0.3.2"
  },
  "kernelspec": {
   "display_name": "Python 3",
   "language": "python",
   "name": "python3"
  },
  "language_info": {
   "codemirror_mode": {
    "name": "ipython",
    "version": 2
   },
   "file_extension": ".py",
   "mimetype": "text/x-python",
   "name": "python",
   "nbconvert_exporter": "python",
   "pygments_lexer": "ipython2",
   "version": "2.7.12"
  }
 },
 "nbformat": 4,
 "nbformat_minor": 1
}
