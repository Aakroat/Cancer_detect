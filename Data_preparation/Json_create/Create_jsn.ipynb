{
 "cells": [
  {
   "cell_type": "code",
   "execution_count": 0,
   "metadata": {
    "colab": {},
    "colab_type": "code",
    "id": "m1Pc-H2us-lF"
   },
   "outputs": [],
   "source": [
    "import os\n",
    "import numpy as np\n",
    "import json\n",
    "dd=\"/opt/infilect/dev/repos/VCA/Data/FY2019/Val/ValCsv\"   # All the .csv from LUNA dataset"
   ]
  },
  {
   "cell_type": "code",
   "execution_count": 0,
   "metadata": {
    "colab": {},
    "colab_type": "code",
    "id": "RNmXU_EKs-lO"
   },
   "outputs": [],
   "source": [
    "import os\n",
    "import numpy as np\n",
    "\n",
    "ki=os.listdir(dd)\n",
    "p={}\n",
    "p_p={}\n",
    "\n",
    "for names in ki:\n",
    "    if names.endswith(\".csv\"):\n",
    "        path=os.path.join(dd,names)\n",
    "        k=os.path.basename(path)\n",
    "        j=k[:-4]\n",
    "        l=j[7:]\n",
    "        p=k[:6]\n",
    "        d=j+'.png'\n",
    "        p=p+'.png' \n",
    "        from Extract_xy_csv import Extract_X \n",
    "        from Extract_xy_csv import Extract_Y\n",
    "        x=Extract_X(path)\n",
    "        x=x.astype(int)\n",
    "        x=np.ndarray.tolist(x)\n",
    "        y=Extract_Y(path)\n",
    "        y=y.astype(int)\n",
    "        y=np.ndarray.tolist(y)\n",
    "        p={d:\n",
    "        {\n",
    "        \"fileref\":\"\",\n",
    "        \"size\":4794,\n",
    "        \"filename\":p,\n",
    "        \"base64_img_data\":\"\",\n",
    "        \"file_attributes\":{},\n",
    "        \"regions\":\n",
    "          {l:\n",
    "            {\"shape_attributes\":\n",
    "              {\n",
    "                \"name\":\"polygon\",\n",
    "                \"all_points_x\":x,\n",
    "                \"all_points_y\":y\n",
    "              },\n",
    "              \"region_attributes\":\n",
    "                {\"name\":\"Nodule\"}\n",
    "            }\n",
    "          }\n",
    "        }}\n",
    "        p_p[list(p.keys())[0]]=list(p.values())[0]\n",
    "    "
   ]
  },
  {
   "cell_type": "code",
   "execution_count": 0,
   "metadata": {
    "colab": {},
    "colab_type": "code",
    "id": "kCm9GExG-w5p"
   },
   "outputs": [],
   "source": [
    "p_p=json.dumps(p_p)"
   ]
  },
  {
   "cell_type": "code",
   "execution_count": 0,
   "metadata": {
    "colab": {},
    "colab_type": "code",
    "id": "I-vDCUlR-w5r"
   },
   "outputs": [],
   "source": [
    "with open('via_region_data.json','w') as fhand:\n",
    "    fhand.write(p_p)"
   ]
  },
  {
   "cell_type": "code",
   "execution_count": 0,
   "metadata": {
    "colab": {},
    "colab_type": "code",
    "id": "XZ-S-qB_-w5u"
   },
   "outputs": [],
   "source": [
    "os.chdir()"
   ]
  },
  {
   "cell_type": "code",
   "execution_count": 0,
   "metadata": {
    "colab": {},
    "colab_type": "code",
    "id": "jvwrDMxa-w5y"
   },
   "outputs": [],
   "source": []
  }
 ],
 "metadata": {
  "colab": {
   "name": "Create_jsn.ipynb",
   "provenance": [],
   "version": "0.3.2"
  },
  "kernelspec": {
   "display_name": "env",
   "language": "python",
   "name": "env"
  },
  "language_info": {
   "codemirror_mode": {
    "name": "ipython",
    "version": 3
   },
   "file_extension": ".py",
   "mimetype": "text/x-python",
   "name": "python",
   "nbconvert_exporter": "python",
   "pygments_lexer": "ipython3",
   "version": "3.6.7"
  }
 },
 "nbformat": 4,
 "nbformat_minor": 1
}
