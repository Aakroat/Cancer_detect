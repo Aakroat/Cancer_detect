{
 "cells": [
  {
   "cell_type": "markdown",
   "metadata": {
    "colab_type": "text",
    "id": "_xkS3bSb_E-K"
   },
   "source": [
    "**Create csv file containing x and y coordinates from a xml file\n",
    "<br>\n",
    "Multiple csv files are created from each xml file\n",
    "<br>\n",
    "csv can be saved in one main folder or seperate folders for each patient**"
   ]
  },
  {
   "cell_type": "code",
   "execution_count": 0,
   "metadata": {
    "colab": {},
    "colab_type": "code",
    "id": "zASCj8Wa_E-M"
   },
   "outputs": [],
   "source": [
    "from bs4 import BeautifulSoup\n",
    "import os\n",
    "import numpy as np\n",
    "import re\n",
    "import pydicom\n",
    "import re"
   ]
  },
  {
   "cell_type": "code",
   "execution_count": 0,
   "metadata": {
    "colab": {},
    "colab_type": "code",
    "id": "bRt0QISX_E-R"
   },
   "outputs": [],
   "source": [
    "#data_path_root = folder containing all patient folders\n",
    "data_path_root=\"F:\\Lunatest\"\n",
    "#data_path_root_list = list of patient folder name\n",
    "data_path_root_list=os.listdir(data_path_root)\n",
    "#csv_folder = folder to save csv\n",
    "csv_folder=\"F:\\csv_folder\""
   ]
  },
  {
   "cell_type": "code",
   "execution_count": 0,
   "metadata": {
    "colab": {},
    "colab_type": "code",
    "id": "xW7qYeb7_E-V"
   },
   "outputs": [],
   "source": [
    "#Read xml and return 'roi'\n",
    "def froi(data_path):\n",
    "    global data_roi\n",
    "    os.chdir(data_path)\n",
    "    for file in os.listdir():\n",
    "        if file.endswith('.xml'):\n",
    "            xmlname=file\n",
    "    data_xml=open(xmlname,'r')\n",
    "    data_xml_contents=data_xml.read()\n",
    "    soup=BeautifulSoup(data_xml_contents,'html.parser')\n",
    "    data_roi=soup.findAll('roi')\n",
    "    return data_roi"
   ]
  },
  {
   "cell_type": "code",
   "execution_count": 0,
   "metadata": {
    "colab": {},
    "colab_type": "code",
    "id": "MAS2E-J6_E-Y"
   },
   "outputs": [],
   "source": [
    "#Get image id and Z position from 'roi' data and create a dict\n",
    "def fIDZdict():\n",
    "    global dictIDZpos\n",
    "    ID=[]\n",
    "    Zpos=[]\n",
    "    for i in range(len(data_roi)):\n",
    "        ID.append(re.findall(\"<imagesop_uid>(.*)</imagesop_uid>\",str(data_roi[i])))\n",
    "        Zpos.append(re.findall('<imagezposition>(.*)</imagezposition>',str(data_roi[i])))\n",
    "    dictIDZpos={}\n",
    "    for i in range(len(Zpos)):\n",
    "        dictIDZpos[ID[i][0]]=float(Zpos[i][0].strip())\n",
    "    return dictIDZpos"
   ]
  },
  {
   "cell_type": "code",
   "execution_count": 0,
   "metadata": {
    "colab": {},
    "colab_type": "code",
    "id": "1E8fY4kF_E-a"
   },
   "outputs": [],
   "source": [
    "#Get id from dcm and create dict of id and dcmname\n",
    "def fIDdcmnamedict():\n",
    "    global dictIDdcmname\n",
    "    fileList=[]\n",
    "    for file in os.listdir(data_path):\n",
    "        if file.endswith('.dcm'):\n",
    "            fileList.append(file)\n",
    "    dcmIDList=[]\n",
    "    for file in fileList:\n",
    "        dcminfo=pydicom.dcmread(file)\n",
    "        dcmID=dcminfo.SOPInstanceUID.strip()\n",
    "        dcmIDList.append(dcmID)\n",
    "    dictIDdcmname={}\n",
    "    for i in range(len(fileList)):\n",
    "        dictIDdcmname[dcmIDList[i]]=fileList[i]\n",
    "    return dictIDdcmname"
   ]
  },
  {
   "cell_type": "code",
   "execution_count": 0,
   "metadata": {
    "colab": {},
    "colab_type": "code",
    "id": "rbPsGXK__E-d"
   },
   "outputs": [],
   "source": [
    "#make a dict of Z position and dcmname\n",
    "def fxmldcm():\n",
    "    global xmldcm\n",
    "    xmldcm={}\n",
    "    for keyx in dictIDZpos:\n",
    "        xmldcm[dictIDZpos[keyx]]=dictIDdcmname[keyx]\n",
    "    return xmldcm"
   ]
  },
  {
   "cell_type": "code",
   "execution_count": 0,
   "metadata": {
    "colab": {},
    "colab_type": "code",
    "id": "hUFwKaND_E-g"
   },
   "outputs": [],
   "source": [
    "#create z x and y list\n",
    "def fzyx():\n",
    "    global Zlist,Xlist,Ylist\n",
    "    Zlist=[]\n",
    "    Xlist=[]\n",
    "    Ylist=[]\n",
    "    for i in range(len(data_roi)):\n",
    "        Zlist.append(re.findall('<imagezposition>(.*)</imagezposition>',str(data_roi[i])))\n",
    "        Xlist.append(re.findall('<xcoord>(.*)</xcoord>',str(data_roi[i])))\n",
    "        Ylist.append(re.findall('<ycoord>(.*)</ycoord>',str(data_roi[i])))\n",
    "    return Zlist,Xlist,Ylist"
   ]
  },
  {
   "cell_type": "code",
   "execution_count": 0,
   "metadata": {
    "colab": {},
    "colab_type": "code",
    "id": "L5WO5JGo_E-i"
   },
   "outputs": [],
   "source": [
    "# ask user if they want to save csv in one folder or create child csv folders\n",
    "def ask_for_csv_folder():\n",
    "    import sys\n",
    "    global ask_var\n",
    "    print(\"\\nEnter 'e' to terminate program\\n\")\n",
    "    print(\"Enter\\n'y' for creating child csv folder\\n'n' for saving csv in parent csv folder\")\n",
    "    while True:\n",
    "        ask_var=input(\"Enter : \")\n",
    "        if (ask_var == 'y') or (ask_var == 'n'):\n",
    "            break\n",
    "        elif ask_var=='e':\n",
    "            sys.exit()\n",
    "        else:\n",
    "            print('Wrong Input')\n",
    "            continue\n",
    "                \n",
    "    return ask_var"
   ]
  },
  {
   "cell_type": "code",
   "execution_count": 0,
   "metadata": {
    "colab": {},
    "colab_type": "code",
    "id": "V1BTBKr9_E-l"
   },
   "outputs": [],
   "source": [
    "#save csv in csv_folder or create child folders\n",
    "def csv_to_save_folder(csv_folder):\n",
    "    os.chdir(csv_folder)\n",
    "    if ask_var=='n':\n",
    "        return csv_folder\n",
    "    elif ask_var=='y':\n",
    "        cfname='csv_'+data_path_root_list[folder][-4:]\n",
    "        if os.path.exists(cfname)==False:\n",
    "            os.mkdir(cfname)\n",
    "        return os.path.join(csv_folder,cfname)"
   ]
  },
  {
   "cell_type": "code",
   "execution_count": 0,
   "metadata": {
    "colab": {},
    "colab_type": "code",
    "id": "jBO8RWg8_E-o"
   },
   "outputs": [],
   "source": [
    "#write csv to folder specified by csv_to_save_folder()\n",
    "def fwritecsv():\n",
    "    os.chdir(csv_to_save_folder(csv_folder))\n",
    "    f=[]\n",
    "    for i in range(len(Zlist)):\n",
    "        if len(Xlist[i])>=4:\n",
    "            f.append(i)\n",
    "    c=0       \n",
    "    for j in f:\n",
    "        c=c+1\n",
    "        F=np.zeros((len(Xlist[j]),2))\n",
    "        for i in range(len(Xlist[j])):\n",
    "            F[i][0]=Xlist[j][i]\n",
    "            F[i][1]=Ylist[j][i]\n",
    "        F=F.astype(int)\n",
    "\n",
    "        val=xmldcm[float(Zlist[j][0].strip())] \n",
    "        val=val[:-4]\n",
    "        val=val[3:]\n",
    "        \n",
    "        fname=pid+'_'+val+'_'+str(c)+'.csv' \n",
    "        with open(fname,\"w\") as file:\n",
    "            file.write(\"\\n\".join(\" \".join(map(str,x))for x in (F)))"
   ]
  },
  {
   "cell_type": "code",
   "execution_count": 0,
   "metadata": {
    "colab": {},
    "colab_type": "code",
    "id": "wbhYWtlU_E-r"
   },
   "outputs": [],
   "source": [
    "global ask_var,data_roi,dictIDZpos,dictIDdcmname,xmldcm,Zlist,Xlist,Ylist\n",
    "ask_for_csv_folder()\n",
    "for folder in range(0,1):\n",
    "#for folder in range(0,len(data_path_root_list)):\n",
    "    data_path=os.path.join(data_path_root,data_path_root_list[folder])\n",
    "    print(data_path)\n",
    "    csv_to_save_folder(csv_folder)\n",
    "    froi(data_path)\n",
    "    pid=data_path[-4:]\n",
    "    fIDZdict()\n",
    "    fIDdcmnamedict()\n",
    "    fxmldcm()\n",
    "    fzyx()\n",
    "    fwritecsv()\n",
    "print(\"Task Completed\")"
   ]
  },
  {
   "cell_type": "code",
   "execution_count": 0,
   "metadata": {
    "colab": {},
    "colab_type": "code",
    "id": "HIVc4TTn_E-v"
   },
   "outputs": [],
   "source": []
  }
 ],
 "metadata": {
  "colab": {
   "name": "Write CSV to Folder v3 FY.ipynb",
   "provenance": [],
   "version": "0.3.2"
  },
  "kernelspec": {
   "display_name": "Python 3",
   "language": "python",
   "name": "python3"
  },
  "language_info": {
   "codemirror_mode": {
    "name": "ipython",
    "version": 2
   },
   "file_extension": ".py",
   "mimetype": "text/x-python",
   "name": "python",
   "nbconvert_exporter": "python",
   "pygments_lexer": "ipython2",
   "version": "2.7.12"
  }
 },
 "nbformat": 4,
 "nbformat_minor": 1
}
